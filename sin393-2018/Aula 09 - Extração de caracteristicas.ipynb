{
 "cells": [
  {
   "cell_type": "markdown",
   "metadata": {},
   "source": [
    "# [Aula 9] Extração de caracteristicas"
   ]
  },
  {
   "cell_type": "code",
   "execution_count": 1,
   "metadata": {},
   "outputs": [],
   "source": [
    "import numpy as np\n",
    "import imageio\n",
    "from skimage import measure, img_as_float\n",
    "import matplotlib.pyplot as plt\n",
    "import matplotlib.patches as patches"
   ]
  },
  {
   "cell_type": "markdown",
   "metadata": {},
   "source": [
    "## Momentos"
   ]
  },
  {
   "cell_type": "code",
   "execution_count": null,
   "metadata": {},
   "outputs": [],
   "source": []
  },
  {
   "cell_type": "code",
   "execution_count": 2,
   "metadata": {},
   "outputs": [],
   "source": [
    "im = np.array([[0, 0, 1, 1],\n",
    "               [0, 1, 1, 0],\n",
    "               [1, 1, 0, 0]])"
   ]
  },
  {
   "cell_type": "code",
   "execution_count": 3,
   "metadata": {},
   "outputs": [],
   "source": [
    "im_r = measure.label(im)"
   ]
  },
  {
   "cell_type": "code",
   "execution_count": 4,
   "metadata": {},
   "outputs": [],
   "source": [
    "props = measure.regionprops(im_r, im)"
   ]
  },
  {
   "cell_type": "code",
   "execution_count": 5,
   "metadata": {},
   "outputs": [
    {
     "name": "stdout",
     "output_type": "stream",
     "text": [
      "[[ 6.  6. 10. 18.]\n",
      " [ 9.  5.  7. 11.]\n",
      " [19.  7.  9. 13.]\n",
      " [45. 11. 13. 17.]]\n",
      "[[ 6.   0.   4.   0. ]\n",
      " [ 0.  -4.   0.  -4. ]\n",
      " [ 5.5  0.   5.   0. ]\n",
      " [ 0.  -7.   0.  -7. ]]\n",
      "[0.26388889 0.05111883 0.         0.         0.         0.\n",
      " 0.        ]\n"
     ]
    }
   ],
   "source": [
    "for prop in props:\n",
    "    print(prop.moments)\n",
    "    print(prop.moments_central)\n",
    "    print(prop.moments_hu)"
   ]
  },
  {
   "cell_type": "markdown",
   "metadata": {},
   "source": [
    "## Bounding-box"
   ]
  },
  {
   "cell_type": "markdown",
   "metadata": {},
   "source": [
    "É o menor retângulo que contém uma região."
   ]
  },
  {
   "cell_type": "code",
   "execution_count": 6,
   "metadata": {},
   "outputs": [],
   "source": [
    "im_1 = np.array([[0, 0, 0, 0, 0, 0, 0, 0],\n",
    "                 [0, 0, 0, 0, 0, 0, 0, 0],\n",
    "                 [0, 0, 0, 1, 1, 0, 0, 0],\n",
    "                 [0, 0, 1, 1, 1, 1, 0, 0],\n",
    "                 [0, 0, 1, 1, 1, 1, 0, 0],\n",
    "                 [0, 0, 0, 1, 1, 0, 0, 0],\n",
    "                 [0, 0, 0, 0, 0, 0, 0, 0],\n",
    "                 [0, 0, 0, 0, 0, 0, 0, 0]])"
   ]
  },
  {
   "cell_type": "code",
   "execution_count": 7,
   "metadata": {},
   "outputs": [
    {
     "data": {
      "image/png": "[encoded data removed]",
      "text/plain": [
       "<Figure size 432x288 with 1 Axes>"
      ]
     },
     "metadata": {},
     "output_type": "display_data"
    }
   ],
   "source": [
    "plt.figure()\n",
    "plt.imshow(im_1, cmap='gray')\n",
    "plt.show()"
   ]
  },
  {
   "cell_type": "code",
   "execution_count": 8,
   "metadata": {},
   "outputs": [],
   "source": [
    "im_2 = np.array([[0, 0, 0, 0, 0, 0, 0, 0],\n",
    "                 [0, 0, 0, 0, 0, 0, 0, 0],\n",
    "                 [0, 0, 0, 0, 1, 1, 0, 0],\n",
    "                 [0, 0, 0, 0, 1, 1, 0, 0],\n",
    "                 [0, 0, 1, 1, 1, 1, 0, 0],\n",
    "                 [0, 0, 1, 1, 1, 1, 0, 0],\n",
    "                 [0, 0, 0, 0, 0, 0, 0, 0],\n",
    "                 [0, 0, 0, 0, 0, 0, 0, 0]])"
   ]
  },
  {
   "cell_type": "code",
   "execution_count": 9,
   "metadata": {},
   "outputs": [
    {
     "data": {
      "image/png": "[encoded data removed]",
      "text/plain": [
       "<Figure size 432x288 with 1 Axes>"
      ]
     },
     "metadata": {},
     "output_type": "display_data"
    }
   ],
   "source": [
    "plt.figure()\n",
    "plt.imshow(im_2, cmap='gray')\n",
    "plt.show()"
   ]
  },
  {
   "cell_type": "markdown",
   "metadata": {},
   "source": [
    "## Centroide"
   ]
  },
  {
   "cell_type": "markdown",
   "metadata": {},
   "source": [
    "É centro de massa de uma região."
   ]
  },
  {
   "cell_type": "code",
   "execution_count": null,
   "metadata": {},
   "outputs": [],
   "source": []
  },
  {
   "cell_type": "markdown",
   "metadata": {},
   "source": [
    "## Perimetro"
   ]
  },
  {
   "cell_type": "markdown",
   "metadata": {},
   "source": [
    "Correspond ao número de pixels e borda de um objeto.\n",
    "\n",
    "É diferente para conectividade 4 e 8.\n",
    "\n",
    "* No caso de bordas 8-conectadas, as distâncias entre pixels adjacentes não são constantes.\n",
    "    * Pares de pixelsl com vizinhança diagonal\n",
    "        * $d(A, B) = \\sqrt{2}$\n",
    "    * Demais pares de pixels:\n",
    "        * $d(B, C) = 1$"
   ]
  },
  {
   "cell_type": "code",
   "execution_count": null,
   "metadata": {},
   "outputs": [],
   "source": []
  },
  {
   "cell_type": "markdown",
   "metadata": {},
   "source": [
    "## Fecho convexo"
   ]
  },
  {
   "cell_type": "markdown",
   "metadata": {},
   "source": [
    "É o menor polígono convexo que contém uma região."
   ]
  },
  {
   "cell_type": "code",
   "execution_count": 10,
   "metadata": {},
   "outputs": [],
   "source": [
    "im_3 = np.array([[0, 0, 0, 0, 0, 0, 0, 0],\n",
    "                 [0, 0, 0, 0, 0, 0, 0, 0],\n",
    "                 [0, 1, 1, 0, 0, 1, 1, 0],\n",
    "                 [0, 1, 1, 0, 0, 1, 1, 0],\n",
    "                 [0, 1, 1, 0, 0, 1, 1, 0],\n",
    "                 [0, 1, 1, 1, 1, 1, 1, 0],\n",
    "                 [0, 0, 1, 1, 1, 1, 0, 0],\n",
    "                 [0, 0, 0, 0, 0, 0, 0, 0]])"
   ]
  },
  {
   "cell_type": "code",
   "execution_count": 11,
   "metadata": {},
   "outputs": [
    {
     "data": {
      "image/png": "[encoded data removed]",
      "text/plain": [
       "<Figure size 432x288 with 1 Axes>"
      ]
     },
     "metadata": {},
     "output_type": "display_data"
    }
   ],
   "source": [
    "plt.figure()\n",
    "plt.imshow(im_3, cmap='gray')\n",
    "plt.show()"
   ]
  },
  {
   "cell_type": "markdown",
   "metadata": {},
   "source": [
    "## Área convexa"
   ]
  },
  {
   "cell_type": "markdown",
   "metadata": {},
   "source": [
    "O número de pixels na região do fecho convexo"
   ]
  },
  {
   "cell_type": "code",
   "execution_count": null,
   "metadata": {},
   "outputs": [],
   "source": []
  },
  {
   "cell_type": "markdown",
   "metadata": {},
   "source": [
    "## Circularidade"
   ]
  },
  {
   "cell_type": "markdown",
   "metadata": {},
   "source": [
    "É uma função do perimetro e da área de uma forma."
   ]
  },
  {
   "cell_type": "markdown",
   "metadata": {},
   "source": [
    "$$\n",
    "\\text{Circularidade } = \\frac{4 \\times \\pi \\text{ Área}}{\\text{Perimetro }^2} \n",
    "$$"
   ]
  },
  {
   "cell_type": "markdown",
   "metadata": {},
   "source": [
    "A circularidade do circulo perfeito é 1."
   ]
  },
  {
   "cell_type": "code",
   "execution_count": null,
   "metadata": {},
   "outputs": [],
   "source": []
  },
  {
   "cell_type": "markdown",
   "metadata": {},
   "source": [
    "## Excentricidade"
   ]
  },
  {
   "cell_type": "markdown",
   "metadata": {},
   "source": [
    "Corresponde à razão entre a distância entre os focos de uma elipse e o comprimento do maior eixo."
   ]
  },
  {
   "cell_type": "code",
   "execution_count": null,
   "metadata": {},
   "outputs": [],
   "source": []
  },
  {
   "cell_type": "markdown",
   "metadata": {},
   "source": [
    "## Diâmetro equivalente"
   ]
  },
  {
   "cell_type": "markdown",
   "metadata": {},
   "source": [
    "Corresponde ao diâmetro de um circulo com a mesma área da forma."
   ]
  },
  {
   "cell_type": "markdown",
   "metadata": {},
   "source": [
    "$$\\text{DiametroEquiv } = \\sqrt{\\frac{4 \\times \\text{ Área}}{\\pi}}$$"
   ]
  },
  {
   "cell_type": "code",
   "execution_count": null,
   "metadata": {},
   "outputs": [],
   "source": []
  },
  {
   "cell_type": "markdown",
   "metadata": {},
   "source": [
    "## Número de Euler"
   ]
  },
  {
   "cell_type": "markdown",
   "metadata": {},
   "source": [
    "É o número de regiões na imagem subtraído o número de buracos."
   ]
  },
  {
   "cell_type": "code",
   "execution_count": 12,
   "metadata": {},
   "outputs": [],
   "source": [
    "im_4 = np.array([[0, 0, 0, 0, 0, 0, 0, 0],\n",
    "                 [0, 1, 0, 1, 1, 1, 1, 0],\n",
    "                 [0, 1, 1, 1, 0, 0, 1, 0],\n",
    "                 [0, 1, 1, 1, 0, 0, 1, 0],\n",
    "                 [0, 0, 1, 1, 1, 1, 1, 0],\n",
    "                 [0, 0, 1, 0, 0, 1, 0, 0],\n",
    "                 [0, 1, 1, 1, 1, 1, 0, 0],\n",
    "                 [0, 0, 0, 0, 0, 0, 0, 0]])"
   ]
  },
  {
   "cell_type": "code",
   "execution_count": 13,
   "metadata": {},
   "outputs": [
    {
     "data": {
      "image/png": "[encoded data removed]",
      "text/plain": [
       "<Figure size 432x288 with 1 Axes>"
      ]
     },
     "metadata": {},
     "output_type": "display_data"
    }
   ],
   "source": [
    "plt.figure()\n",
    "plt.imshow(im_4, cmap='gray')\n",
    "plt.show()"
   ]
  },
  {
   "cell_type": "code",
   "execution_count": 14,
   "metadata": {},
   "outputs": [],
   "source": [
    "im_5 = np.array([[0, 0, 0, 0, 0, 0, 0, 0],\n",
    "                 [0, 1, 1, 1, 0, 0, 0, 0],\n",
    "                 [0, 1, 0, 1, 0, 1, 1, 0],\n",
    "                 [0, 1, 0, 1, 0, 1, 1, 1],\n",
    "                 [0, 1, 1, 1, 0, 1, 0, 1],\n",
    "                 [0, 1, 0, 1, 0, 1, 0, 1],\n",
    "                 [0, 1, 1, 1, 0, 1, 1, 1],\n",
    "                 [0, 0, 0, 0, 0, 0, 0, 0]])"
   ]
  },
  {
   "cell_type": "code",
   "execution_count": 15,
   "metadata": {},
   "outputs": [
    {
     "data": {
      "image/png": "[encoded data removed]",
      "text/plain": [
       "<Figure size 432x288 with 1 Axes>"
      ]
     },
     "metadata": {},
     "output_type": "display_data"
    }
   ],
   "source": [
    "plt.figure()\n",
    "plt.imshow(im_5, cmap='gray')\n",
    "plt.show()"
   ]
  },
  {
   "cell_type": "markdown",
   "metadata": {},
   "source": [
    "## Extensão"
   ]
  },
  {
   "cell_type": "markdown",
   "metadata": {},
   "source": [
    "É a razão entre o número de pixels na região e no bounding box."
   ]
  },
  {
   "cell_type": "code",
   "execution_count": null,
   "metadata": {},
   "outputs": [],
   "source": []
  },
  {
   "cell_type": "markdown",
   "metadata": {},
   "source": [
    "$${Extensão } = \\frac{{Área}_{Objeto}}{{Área}_{BoundingBox}} $$"
   ]
  },
  {
   "cell_type": "code",
   "execution_count": null,
   "metadata": {},
   "outputs": [],
   "source": []
  },
  {
   "cell_type": "markdown",
   "metadata": {},
   "source": [
    "## Área preenchida"
   ]
  },
  {
   "cell_type": "markdown",
   "metadata": {},
   "source": [
    "Área de uma região após o preenchimento dos buracos."
   ]
  },
  {
   "cell_type": "code",
   "execution_count": null,
   "metadata": {},
   "outputs": [],
   "source": []
  },
  {
   "cell_type": "markdown",
   "metadata": {},
   "source": [
    "## Maior eixo"
   ]
  },
  {
   "cell_type": "code",
   "execution_count": 16,
   "metadata": {},
   "outputs": [],
   "source": [
    "im_4 = np.array([[0, 0, 0, 0, 0, 0, 0, 0],\n",
    "                 [0, 0, 0, 0, 0, 0, 0, 0],\n",
    "                 [0, 0, 0, 0, 1, 1, 1, 0],\n",
    "                 [0, 0, 0, 0, 1, 1, 1, 0],\n",
    "                 [0, 1, 1, 1, 0, 0, 0, 0],\n",
    "                 [0, 1, 1, 1, 0, 0, 0, 0],\n",
    "                 [0, 0, 0, 0, 0, 0, 0, 0],\n",
    "                 [0, 0, 0, 0, 0, 0, 0, 0]])"
   ]
  },
  {
   "cell_type": "code",
   "execution_count": 17,
   "metadata": {},
   "outputs": [
    {
     "data": {
      "image/png": "[encoded data removed]",
      "text/plain": [
       "<Figure size 432x288 with 1 Axes>"
      ]
     },
     "metadata": {},
     "output_type": "display_data"
    }
   ],
   "source": [
    "plt.figure()\n",
    "plt.imshow(im_4, cmap='gray')\n",
    "plt.show()"
   ]
  },
  {
   "cell_type": "markdown",
   "metadata": {},
   "source": [
    "## Menor eixo"
   ]
  },
  {
   "cell_type": "code",
   "execution_count": null,
   "metadata": {},
   "outputs": [],
   "source": []
  },
  {
   "cell_type": "markdown",
   "metadata": {},
   "source": [
    "## Orientação"
   ]
  },
  {
   "cell_type": "code",
   "execution_count": null,
   "metadata": {},
   "outputs": [],
   "source": []
  },
  {
   "cell_type": "markdown",
   "metadata": {},
   "source": [
    "## Solidez"
   ]
  },
  {
   "cell_type": "markdown",
   "metadata": {},
   "source": [
    "É a razão entre o número de pixels na região e o seu fecho convexo."
   ]
  },
  {
   "cell_type": "markdown",
   "metadata": {},
   "source": [
    "$${Solidez} = \\frac{{Área}_{Objeto}}{{Área}_{Convexa}}$$"
   ]
  },
  {
   "cell_type": "code",
   "execution_count": null,
   "metadata": {},
   "outputs": [],
   "source": []
  },
  {
   "cell_type": "markdown",
   "metadata": {},
   "source": [
    "## Intensidades mínima, média e máxima"
   ]
  },
  {
   "cell_type": "code",
   "execution_count": null,
   "metadata": {},
   "outputs": [],
   "source": []
  },
  {
   "cell_type": "markdown",
   "metadata": {},
   "source": [
    "## O método regionprops"
   ]
  },
  {
   "cell_type": "code",
   "execution_count": null,
   "metadata": {},
   "outputs": [],
   "source": []
  },
  {
   "cell_type": "code",
   "execution_count": null,
   "metadata": {},
   "outputs": [],
   "source": []
  },
  {
   "cell_type": "code",
   "execution_count": 18,
   "metadata": {},
   "outputs": [
    {
     "ename": "FileNotFoundError",
     "evalue": "No such file: 'C:\\Users\\Joao\\Dev\\GitHub\\joaofmari\\computer-vision\\sin393-2018\\mpeg7_shapes_3.png'",
     "output_type": "error",
     "traceback": [
      "\u001b[1;31m---------------------------------------------------------------------------\u001b[0m",
      "\u001b[1;31mFileNotFoundError\u001b[0m                         Traceback (most recent call last)",
      "\u001b[1;32m<ipython-input-18-b85e2dec7762>\u001b[0m in \u001b[0;36m<module>\u001b[1;34m()\u001b[0m\n\u001b[0;32m     37\u001b[0m     \u001b[0max\u001b[0m\u001b[1;33m.\u001b[0m\u001b[0mplot\u001b[0m\u001b[1;33m(\u001b[0m\u001b[1;33m[\u001b[0m\u001b[0mcent\u001b[0m\u001b[1;33m[\u001b[0m\u001b[1;36m1\u001b[0m\u001b[1;33m]\u001b[0m\u001b[1;33m,\u001b[0m \u001b[0mcent\u001b[0m\u001b[1;33m[\u001b[0m\u001b[1;36m1\u001b[0m\u001b[1;33m]\u001b[0m\u001b[1;33m+\u001b[0m\u001b[0mx_\u001b[0m\u001b[1;33m]\u001b[0m \u001b[1;33m,\u001b[0m\u001b[1;33m[\u001b[0m\u001b[0mcent\u001b[0m\u001b[1;33m[\u001b[0m\u001b[1;36m0\u001b[0m\u001b[1;33m]\u001b[0m\u001b[1;33m,\u001b[0m \u001b[0mcent\u001b[0m\u001b[1;33m[\u001b[0m\u001b[1;36m0\u001b[0m\u001b[1;33m]\u001b[0m\u001b[1;33m-\u001b[0m\u001b[0my_\u001b[0m\u001b[1;33m]\u001b[0m\u001b[1;33m,\u001b[0m \u001b[1;34m'm-'\u001b[0m\u001b[1;33m)\u001b[0m\u001b[1;33m\u001b[0m\u001b[0m\n\u001b[0;32m     38\u001b[0m \u001b[1;33m\u001b[0m\u001b[0m\n\u001b[1;32m---> 39\u001b[1;33m \u001b[0mim\u001b[0m \u001b[1;33m=\u001b[0m \u001b[0mimageio\u001b[0m\u001b[1;33m.\u001b[0m\u001b[0mimread\u001b[0m\u001b[1;33m(\u001b[0m\u001b[1;34m'mpeg7_shapes_3.png'\u001b[0m\u001b[1;33m)\u001b[0m\u001b[1;33m\u001b[0m\u001b[0m\n\u001b[0m\u001b[0;32m     40\u001b[0m \u001b[0mprint\u001b[0m\u001b[1;33m(\u001b[0m\u001b[0mim\u001b[0m\u001b[1;33m.\u001b[0m\u001b[0mndim\u001b[0m\u001b[1;33m,\u001b[0m \u001b[0mim\u001b[0m\u001b[1;33m.\u001b[0m\u001b[0mshape\u001b[0m\u001b[1;33m)\u001b[0m\u001b[1;33m\u001b[0m\u001b[0m\n\u001b[0;32m     41\u001b[0m \u001b[0mim\u001b[0m \u001b[1;33m=\u001b[0m \u001b[0mim\u001b[0m\u001b[1;33m[\u001b[0m\u001b[1;33m:\u001b[0m\u001b[1;33m,\u001b[0m\u001b[1;33m:\u001b[0m\u001b[1;33m,\u001b[0m\u001b[1;36m0\u001b[0m\u001b[1;33m]\u001b[0m\u001b[1;33m\u001b[0m\u001b[0m\n",
      "\u001b[1;32m~\\Anaconda3\\lib\\site-packages\\imageio\\core\\functions.py\u001b[0m in \u001b[0;36mimread\u001b[1;34m(uri, format, **kwargs)\u001b[0m\n\u001b[0;32m    204\u001b[0m \u001b[1;33m\u001b[0m\u001b[0m\n\u001b[0;32m    205\u001b[0m     \u001b[1;31m# Get reader and read first\u001b[0m\u001b[1;33m\u001b[0m\u001b[1;33m\u001b[0m\u001b[0m\n\u001b[1;32m--> 206\u001b[1;33m     \u001b[0mreader\u001b[0m \u001b[1;33m=\u001b[0m \u001b[0mread\u001b[0m\u001b[1;33m(\u001b[0m\u001b[0muri\u001b[0m\u001b[1;33m,\u001b[0m \u001b[0mformat\u001b[0m\u001b[1;33m,\u001b[0m \u001b[1;34m'i'\u001b[0m\u001b[1;33m,\u001b[0m \u001b[1;33m**\u001b[0m\u001b[0mkwargs\u001b[0m\u001b[1;33m)\u001b[0m\u001b[1;33m\u001b[0m\u001b[0m\n\u001b[0m\u001b[0;32m    207\u001b[0m     \u001b[1;32mwith\u001b[0m \u001b[0mreader\u001b[0m\u001b[1;33m:\u001b[0m\u001b[1;33m\u001b[0m\u001b[0m\n\u001b[0;32m    208\u001b[0m         \u001b[1;32mreturn\u001b[0m \u001b[0mreader\u001b[0m\u001b[1;33m.\u001b[0m\u001b[0mget_data\u001b[0m\u001b[1;33m(\u001b[0m\u001b[1;36m0\u001b[0m\u001b[1;33m)\u001b[0m\u001b[1;33m\u001b[0m\u001b[0m\n",
      "\u001b[1;32m~\\Anaconda3\\lib\\site-packages\\imageio\\core\\functions.py\u001b[0m in \u001b[0;36mget_reader\u001b[1;34m(uri, format, mode, **kwargs)\u001b[0m\n\u001b[0;32m    115\u001b[0m \u001b[1;33m\u001b[0m\u001b[0m\n\u001b[0;32m    116\u001b[0m     \u001b[1;31m# Create request object\u001b[0m\u001b[1;33m\u001b[0m\u001b[1;33m\u001b[0m\u001b[0m\n\u001b[1;32m--> 117\u001b[1;33m     \u001b[0mrequest\u001b[0m \u001b[1;33m=\u001b[0m \u001b[0mRequest\u001b[0m\u001b[1;33m(\u001b[0m\u001b[0muri\u001b[0m\u001b[1;33m,\u001b[0m \u001b[1;34m'r'\u001b[0m \u001b[1;33m+\u001b[0m \u001b[0mmode\u001b[0m\u001b[1;33m,\u001b[0m \u001b[1;33m**\u001b[0m\u001b[0mkwargs\u001b[0m\u001b[1;33m)\u001b[0m\u001b[1;33m\u001b[0m\u001b[0m\n\u001b[0m\u001b[0;32m    118\u001b[0m \u001b[1;33m\u001b[0m\u001b[0m\n\u001b[0;32m    119\u001b[0m     \u001b[1;31m# Get format\u001b[0m\u001b[1;33m\u001b[0m\u001b[1;33m\u001b[0m\u001b[0m\n",
      "\u001b[1;32m~\\Anaconda3\\lib\\site-packages\\imageio\\core\\request.py\u001b[0m in \u001b[0;36m__init__\u001b[1;34m(self, uri, mode, **kwargs)\u001b[0m\n\u001b[0;32m    126\u001b[0m \u001b[1;33m\u001b[0m\u001b[0m\n\u001b[0;32m    127\u001b[0m         \u001b[1;31m# Parse what was given\u001b[0m\u001b[1;33m\u001b[0m\u001b[1;33m\u001b[0m\u001b[0m\n\u001b[1;32m--> 128\u001b[1;33m         \u001b[0mself\u001b[0m\u001b[1;33m.\u001b[0m\u001b[0m_parse_uri\u001b[0m\u001b[1;33m(\u001b[0m\u001b[0muri\u001b[0m\u001b[1;33m)\u001b[0m\u001b[1;33m\u001b[0m\u001b[0m\n\u001b[0m\u001b[0;32m    129\u001b[0m \u001b[1;33m\u001b[0m\u001b[0m\n\u001b[0;32m    130\u001b[0m         \u001b[1;31m# Set extension\u001b[0m\u001b[1;33m\u001b[0m\u001b[1;33m\u001b[0m\u001b[0m\n",
      "\u001b[1;32m~\\Anaconda3\\lib\\site-packages\\imageio\\core\\request.py\u001b[0m in \u001b[0;36m_parse_uri\u001b[1;34m(self, uri)\u001b[0m\n\u001b[0;32m    269\u001b[0m                 \u001b[1;31m# Reading: check that the file exists (but is allowed a dir)\u001b[0m\u001b[1;33m\u001b[0m\u001b[1;33m\u001b[0m\u001b[0m\n\u001b[0;32m    270\u001b[0m                 \u001b[1;32mif\u001b[0m \u001b[1;32mnot\u001b[0m \u001b[0mos\u001b[0m\u001b[1;33m.\u001b[0m\u001b[0mpath\u001b[0m\u001b[1;33m.\u001b[0m\u001b[0mexists\u001b[0m\u001b[1;33m(\u001b[0m\u001b[0mfn\u001b[0m\u001b[1;33m)\u001b[0m\u001b[1;33m:\u001b[0m\u001b[1;33m\u001b[0m\u001b[0m\n\u001b[1;32m--> 271\u001b[1;33m                     \u001b[1;32mraise\u001b[0m \u001b[0mFileNotFoundError\u001b[0m\u001b[1;33m(\u001b[0m\u001b[1;34m\"No such file: '%s'\"\u001b[0m \u001b[1;33m%\u001b[0m \u001b[0mfn\u001b[0m\u001b[1;33m)\u001b[0m\u001b[1;33m\u001b[0m\u001b[0m\n\u001b[0m\u001b[0;32m    272\u001b[0m             \u001b[1;32melse\u001b[0m\u001b[1;33m:\u001b[0m\u001b[1;33m\u001b[0m\u001b[0m\n\u001b[0;32m    273\u001b[0m                 \u001b[1;31m# Writing: check that the directory to write to does exist\u001b[0m\u001b[1;33m\u001b[0m\u001b[1;33m\u001b[0m\u001b[0m\n",
      "\u001b[1;31mFileNotFoundError\u001b[0m: No such file: 'C:\\Users\\Joao\\Dev\\GitHub\\joaofmari\\computer-vision\\sin393-2018\\mpeg7_shapes_3.png'"
     ]
    }
   ],
   "source": [
    "def plot_centroide(ax, cent):\n",
    "    \"\"\"\n",
    "    Plota o centroide de um objeto.\n",
    "    \"\"\"\n",
    "    ax.scatter(cent[1], cent[0], color='r', s=40)\n",
    "\n",
    "def plot_bbox(ax, bbox):\n",
    "    \"\"\"\n",
    "    Plota o bounding-box de um objeto.\n",
    "    \"\"\"\n",
    "    ax.add_patch( \n",
    "        patches.Rectangle( (bbox[1]-1., bbox[0]-1.), bbox[3]-bbox[1]+1, bbox[2]-bbox[0]+1,\n",
    "                            fill=False, color='g')\n",
    "    )\n",
    "    \n",
    "def plot_diametro(ax, cent, diam):\n",
    "    \"\"\"\n",
    "    Plota o diametro de um objeto.\n",
    "    \"\"\"\n",
    "    ax.add_patch( \n",
    "        patches.Circle( (cent[1], cent[0]), radius=diam/2., fill=False, color='b')\n",
    "    )\n",
    "    \n",
    "def plot_rotulo(ax, bbox, label):\n",
    "    x_ = bbox[1]\n",
    "    y_ = bbox[0]\n",
    "    ax.annotate(label, xy=(x_, y_), xytext=(x_-1, y_-1), color='y' )\n",
    "    \n",
    "def plot_eixo_menor(ax, cent, orient, maj_ax):\n",
    "    x_ = np.sin(orient)*(maj_ax*0.5)\n",
    "    y_ = np.cos(orient)*(maj_ax*0.5)\n",
    "    ax.plot([cent[1], cent[1]+x_] ,[cent[0], cent[0]+y_], 'm-')\n",
    "    \n",
    "def plot_eixo_maior(ax, cent, orient, maj_ax):\n",
    "    x_ = np.cos(orient)*(maj_ax*0.5)\n",
    "    y_ = np.sin(orient)*(maj_ax*0.5)\n",
    "    ax.plot([cent[1], cent[1]+x_] ,[cent[0], cent[0]-y_], 'm-')    \n",
    "\n",
    "im = imageio.imread('mpeg7_shapes_3.png')\n",
    "print(im.ndim, im.shape)\n",
    "im = im[:,:,0]\n",
    "im = img_as_float(im)\n",
    "im = (im > 0.5).astype(float)\n",
    "print(im.ndim, im.shape, im.min(), im.max())\n",
    "\n",
    "# Gera imagem de rotulos.\n",
    "im_r = measure.label(im)\n",
    "print(im_r.max())\n",
    "\n",
    "plt.figure()\n",
    "plt.imshow(im)\n",
    "plt.show()\n",
    "\n",
    "# Inicializa matriz de caracteristicas F.\n",
    "X = np.array([])\n",
    "print(type(X), X.shape)\n",
    "\n",
    "# Obtem propriedades (caracteriticas) de regioes rotuladas em uma imagem.\n",
    "props = measure.regionprops(im_r, im)\n",
    "\n",
    "# Percorre os objetos.\n",
    "for i in range(im_r.max()):\n",
    "    print('-----------------------------------')\n",
    "    print('Objeto: ', i)\n",
    "    print('-----------------------------------')\n",
    "    print('Area.........................: ', props[i].area)\n",
    "    print('Bounding box.................: ', props[i].bbox)\n",
    "    print('Centroide....................: ', props[i].centroid)\n",
    "    print('Area do fecho convexo........: ', props[i].convex_area)\n",
    "    print('Excentricidade...............: ', props[i].eccentricity)\n",
    "    print('Diametro equivalente.........: ', props[i].equivalent_diameter)\n",
    "    print('Numero de Euler..............: ', props[i].euler_number)\n",
    "    print('Extensao.....................: ', props[i].extent)\n",
    "    print('Area preenchida..............: ', props[i].filled_area)\n",
    "    print('Comprimento do maior eixo....: ', props[i].major_axis_length)\n",
    "    print('Intensidade maxima...........: ', props[i].max_intensity)\n",
    "    print('Intensidade media............: ', props[i].mean_intensity)\n",
    "    print('Intensidade minima...........: ', props[i].min_intensity)\n",
    "    print('Comprimento do menor eixo....: ', props[i].minor_axis_length)\n",
    "    print('Orientacao...................: ', props[i].orientation)\n",
    "    print('Perimetro....................: ', props[i].perimeter)\n",
    "    print('Solidicidade.................: ', props[i].solidity)\n",
    "    \n",
    "    # Constroi ndarray do objeto i\n",
    "    X_i = np.array( [props[i].area, \n",
    "                     props[i].convex_area, \n",
    "                     props[i].eccentricity,\n",
    "                     props[i].equivalent_diameter, \n",
    "                     props[i].euler_number,\n",
    "                     props[i].extent, \n",
    "                     props[i].filled_area,\n",
    "                     props[i].major_axis_length,\n",
    "                     props[i].max_intensity,\n",
    "                     props[i].mean_intensity,\n",
    "                     props[i].min_intensity,\n",
    "                     props[i].minor_axis_length,\n",
    "                     props[i].orientation,\n",
    "                     props[i].perimeter, \n",
    "                     props[i].solidity]  ) \n",
    "    # TESTE\n",
    "    print('Vetor de caracteristicas do objeto: ', i)\n",
    "    print(X_i)\n",
    "    \n",
    "    # Justa os vetores e carac. na matriz de caract. F\n",
    "    if i==0:\n",
    "        X = X_i\n",
    "    else:\n",
    "        X = np.vstack((X, X_i))\n",
    "        \n",
    "\n",
    "# Imprime na tela.\n",
    "print(X.shape)\n",
    "print(X)\n",
    "\n",
    "# Grava em arquivo.\n",
    "np.savetxt('MPEG7_shapes_3.csv', X, delimiter=' , ', fmt='%.4f')\n",
    "\n",
    "# Plota algumas caracteristicas sobre a imagem original.\n",
    "plt.figure()\n",
    "plt.title('Caracteristicas dos objetos')\n",
    "plt.imshow(im, cmap='gray', interpolation='nearest')\n",
    "ax = plt.gca() # Get the current axes\n",
    "# Percorre os objetos.\n",
    "for i in range(im_r.max()):\n",
    "    # Plota o centroide.\n",
    "    plot_centroide(ax, props[i].centroid)\n",
    "    # Plota o Bounding Box\n",
    "    plot_bbox(ax, props[i].bbox)\n",
    "    # Plota o diametro.\n",
    "    plot_diametro(ax, props[i].centroid, props[i].equivalent_diameter)\n",
    "    # Plota o eixo maior.\n",
    "    plot_eixo_maior(ax, props[i].centroid, props[i].orientation, props[i].major_axis_length)\n",
    "    # Plota o eixo menor\n",
    "    plot_eixo_menor(ax, props[i].centroid, props[i].orientation, props[i].minor_axis_length)\n",
    "\n",
    "plt.show()"
   ]
  },
  {
   "cell_type": "markdown",
   "metadata": {},
   "source": [
    "## Visualização das caracteristicas 2D"
   ]
  },
  {
   "cell_type": "code",
   "execution_count": null,
   "metadata": {},
   "outputs": [],
   "source": [
    "\n",
    "f = ['area', 'convex_area', 'eccentricity', 'equivalent_diameter', 'euler_number',\n",
    "     extent, filled_area, major_axis_length, mean_intensity, min_intensity,                      minor_axis_length,\n",
    "                     props[i].orientation,\n",
    "                     props[i].perimeter, \n",
    "                     props[i].solidity]\n",
    "\n",
    "num_classes = len(np.unique(y))\n",
    "num_feat = X.shape[1]"
   ]
  },
  {
   "cell_type": "code",
   "execution_count": null,
   "metadata": {},
   "outputs": [],
   "source": [
    "cores = ['r', 'g', 'b']\n",
    "fig, axes = plt.subplots(num_feat, num_feat, figsize=(16,16))\n",
    "for i in range(num_feat):\n",
    "    for j in range(num_feat):\n",
    "        if i==j: # Nome da caracteristica\n",
    "            axes[i,j].text(0.1, 0.5, f[i])\n",
    "            axes[i,j].axis('off')\n",
    "        else: # Plot\n",
    "            for k in range(num_classes):\n",
    "                axes[i,j].scatter(X[y==k, i], X[y==k, j], color=cores[k], s=24, edgecolors='k')\n",
    "            axes[i,j].axis('equal')\n",
    "plt.show()"
   ]
  }
 ],
 "metadata": {
  "kernelspec": {
   "display_name": "Python 3",
   "language": "python",
   "name": "python3"
  },
  "language_info": {
   "codemirror_mode": {
    "name": "ipython",
    "version": 3
   },
   "file_extension": ".py",
   "mimetype": "text/x-python",
   "name": "python",
   "nbconvert_exporter": "python",
   "pygments_lexer": "ipython3",
   "version": "3.6.5"
  },
  "toc": {
   "base_numbering": "9",
   "nav_menu": {},
   "number_sections": true,
   "sideBar": true,
   "skip_h1_title": false,
   "title_cell": "Table of Contents",
   "title_sidebar": "Contents",
   "toc_cell": false,
   "toc_position": {},
   "toc_section_display": true,
   "toc_window_display": false
  }
 },
 "nbformat": 4,
 "nbformat_minor": 2
}
