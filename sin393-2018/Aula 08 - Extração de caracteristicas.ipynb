{
 "cells": [
  {
   "cell_type": "markdown",
   "metadata": {},
   "source": [
    "# Extração de caracteristicas"
   ]
  },
  {
   "cell_type": "code",
   "execution_count": 36,
   "metadata": {},
   "outputs": [],
   "source": [
    "import numpy as np\n",
    "import imageio\n",
    "from skimage import measure, img_as_float\n",
    "import matplotlib.pyplot as plt\n",
    "import matplotlib.patches as patches"
   ]
  },
  {
   "cell_type": "markdown",
   "metadata": {},
   "source": [
    "## Momentos"
   ]
  },
  {
   "cell_type": "code",
   "execution_count": null,
   "metadata": {},
   "outputs": [],
   "source": []
  },
  {
   "cell_type": "code",
   "execution_count": 2,
   "metadata": {},
   "outputs": [],
   "source": [
    "im = np.array([[0, 0, 1, 1],\n",
    "               [0, 1, 1, 0],\n",
    "               [1, 1, 0, 0]])"
   ]
  },
  {
   "cell_type": "code",
   "execution_count": 3,
   "metadata": {},
   "outputs": [],
   "source": [
    "im_r = measure.label(im)"
   ]
  },
  {
   "cell_type": "code",
   "execution_count": 4,
   "metadata": {},
   "outputs": [],
   "source": [
    "props = measure.regionprops(im_r, im)"
   ]
  },
  {
   "cell_type": "code",
   "execution_count": 5,
   "metadata": {},
   "outputs": [
    {
     "name": "stdout",
     "output_type": "stream",
     "text": [
      "[[ 6.  6. 10. 18.]\n",
      " [ 9.  5.  7. 11.]\n",
      " [19.  7.  9. 13.]\n",
      " [45. 11. 13. 17.]]\n",
      "[[ 6.   0.   4.   0. ]\n",
      " [ 0.  -4.   0.  -4. ]\n",
      " [ 5.5  0.   5.   0. ]\n",
      " [ 0.  -7.   0.  -7. ]]\n",
      "[0.26388889 0.05111883 0.         0.         0.         0.\n",
      " 0.        ]\n"
     ]
    },
    {
     "name": "stderr",
     "output_type": "stream",
     "text": [
      "c:\\users\\joao\\anaconda3\\envs\\sin393-py36\\lib\\site-packages\\skimage\\measure\\_regionprops.py:250: UserWarning: regionprops and image moments (including moments, normalized moments, central moments, and inertia tensor) of 2D images will change from xy coordinates to rc coordinates in version 0.16.\n",
      "See http://scikit-image.org/docs/0.14.x/release_notes_and_installation.html#deprecations for details on how to avoid this message.\n",
      "  warn(XY_TO_RC_DEPRECATION_MESSAGE)\n",
      "c:\\users\\joao\\anaconda3\\envs\\sin393-py36\\lib\\site-packages\\skimage\\measure\\_regionprops.py:260: UserWarning: regionprops and image moments (including moments, normalized moments, central moments, and inertia tensor) of 2D images will change from xy coordinates to rc coordinates in version 0.16.\n",
      "See http://scikit-image.org/docs/0.14.x/release_notes_and_installation.html#deprecations for details on how to avoid this message.\n",
      "  warn(XY_TO_RC_DEPRECATION_MESSAGE)\n"
     ]
    }
   ],
   "source": [
    "for prop in props:\n",
    "    print(prop.moments)\n",
    "    print(prop.moments_central)\n",
    "    print(prop.moments_hu)"
   ]
  },
  {
   "cell_type": "markdown",
   "metadata": {},
   "source": [
    "## Bounding-box"
   ]
  },
  {
   "cell_type": "markdown",
   "metadata": {},
   "source": [
    "É o menor retângulo que contém uma região."
   ]
  },
  {
   "cell_type": "code",
   "execution_count": 6,
   "metadata": {},
   "outputs": [],
   "source": [
    "im_1 = np.array([[0, 0, 0, 0, 0, 0, 0, 0],\n",
    "                 [0, 0, 0, 0, 0, 0, 0, 0],\n",
    "                 [0, 0, 0, 1, 1, 0, 0, 0],\n",
    "                 [0, 0, 1, 1, 1, 1, 0, 0],\n",
    "                 [0, 0, 1, 1, 1, 1, 0, 0],\n",
    "                 [0, 0, 0, 1, 1, 0, 0, 0],\n",
    "                 [0, 0, 0, 0, 0, 0, 0, 0],\n",
    "                 [0, 0, 0, 0, 0, 0, 0, 0]])"
   ]
  },
  {
   "cell_type": "code",
   "execution_count": 7,
   "metadata": {},
   "outputs": [
    {
     "data": {
      "image/png": "[encoded data removed]",
      "text/plain": [
       "<Figure size 432x288 with 1 Axes>"
      ]
     },
     "metadata": {},
     "output_type": "display_data"
    }
   ],
   "source": [
    "plt.figure()\n",
    "plt.imshow(im_1, cmap='gray')\n",
    "plt.show()"
   ]
  },
  {
   "cell_type": "code",
   "execution_count": 8,
   "metadata": {},
   "outputs": [],
   "source": [
    "im_2 = np.array([[0, 0, 0, 0, 0, 0, 0, 0],\n",
    "                 [0, 0, 0, 0, 0, 0, 0, 0],\n",
    "                 [0, 0, 0, 0, 1, 1, 0, 0],\n",
    "                 [0, 0, 0, 0, 1, 1, 0, 0],\n",
    "                 [0, 0, 1, 1, 1, 1, 0, 0],\n",
    "                 [0, 0, 1, 1, 1, 1, 0, 0],\n",
    "                 [0, 0, 0, 0, 0, 0, 0, 0],\n",
    "                 [0, 0, 0, 0, 0, 0, 0, 0]])"
   ]
  },
  {
   "cell_type": "code",
   "execution_count": 9,
   "metadata": {},
   "outputs": [
    {
     "data": {
      "image/png": "[encoded data removed]",
      "text/plain": [
       "<Figure size 432x288 with 1 Axes>"
      ]
     },
     "metadata": {},
     "output_type": "display_data"
    }
   ],
   "source": [
    "plt.figure()\n",
    "plt.imshow(im_2, cmap='gray')\n",
    "plt.show()"
   ]
  },
  {
   "cell_type": "markdown",
   "metadata": {},
   "source": [
    "## Centroide"
   ]
  },
  {
   "cell_type": "markdown",
   "metadata": {},
   "source": [
    "É centro de massa de uma região."
   ]
  },
  {
   "cell_type": "code",
   "execution_count": null,
   "metadata": {},
   "outputs": [],
   "source": []
  },
  {
   "cell_type": "markdown",
   "metadata": {},
   "source": [
    "## Perimetro"
   ]
  },
  {
   "cell_type": "markdown",
   "metadata": {},
   "source": [
    "Correspond ao número de pixels e borda de um objeto.\n",
    "\n",
    "É diferente para conectividade 4 e 8.\n",
    "\n",
    "* No caso de bordas 8-conectadas, as distâncias entre pixels adjacentes não são constantes.\n",
    "    * Pares de pixelsl com vizinhança diagonal\n",
    "        * $d(A, B) = \\sqrt{2}$\n",
    "    * Demais pares de pixels:\n",
    "        * $d(B, C) = 1$"
   ]
  },
  {
   "cell_type": "code",
   "execution_count": null,
   "metadata": {},
   "outputs": [],
   "source": []
  },
  {
   "cell_type": "markdown",
   "metadata": {},
   "source": [
    "## Fecho convexo"
   ]
  },
  {
   "cell_type": "markdown",
   "metadata": {},
   "source": [
    "É o menor polígono convexo que contém uma região."
   ]
  },
  {
   "cell_type": "code",
   "execution_count": 10,
   "metadata": {},
   "outputs": [],
   "source": [
    "im_3 = np.array([[0, 0, 0, 0, 0, 0, 0, 0],\n",
    "                 [0, 0, 0, 0, 0, 0, 0, 0],\n",
    "                 [0, 1, 1, 0, 0, 1, 1, 0],\n",
    "                 [0, 1, 1, 0, 0, 1, 1, 0],\n",
    "                 [0, 1, 1, 0, 0, 1, 1, 0],\n",
    "                 [0, 1, 1, 1, 1, 1, 1, 0],\n",
    "                 [0, 0, 1, 1, 1, 1, 0, 0],\n",
    "                 [0, 0, 0, 0, 0, 0, 0, 0]])"
   ]
  },
  {
   "cell_type": "code",
   "execution_count": 11,
   "metadata": {},
   "outputs": [
    {
     "data": {
      "image/png": "[encoded data removed]",
      "text/plain": [
       "<Figure size 432x288 with 1 Axes>"
      ]
     },
     "metadata": {},
     "output_type": "display_data"
    }
   ],
   "source": [
    "plt.figure()\n",
    "plt.imshow(im_3, cmap='gray')\n",
    "plt.show()"
   ]
  },
  {
   "cell_type": "markdown",
   "metadata": {},
   "source": [
    "## Área convexa"
   ]
  },
  {
   "cell_type": "markdown",
   "metadata": {},
   "source": [
    "O número de pixels na região do fecho convexo"
   ]
  },
  {
   "cell_type": "code",
   "execution_count": null,
   "metadata": {},
   "outputs": [],
   "source": []
  },
  {
   "cell_type": "markdown",
   "metadata": {},
   "source": [
    "## Circularidade"
   ]
  },
  {
   "cell_type": "markdown",
   "metadata": {},
   "source": [
    "É uma função do perimetro e da área de uma forma."
   ]
  },
  {
   "cell_type": "markdown",
   "metadata": {},
   "source": [
    "$$\n",
    "\\text{Circularidade } = \\frac{4 \\times \\pi \\text{ Área}}{\\text{Perimetro }^2} \n",
    "$$"
   ]
  },
  {
   "cell_type": "markdown",
   "metadata": {},
   "source": [
    "A circularidade do circulo perfeito é 1."
   ]
  },
  {
   "cell_type": "code",
   "execution_count": null,
   "metadata": {},
   "outputs": [],
   "source": []
  },
  {
   "cell_type": "markdown",
   "metadata": {},
   "source": [
    "## Excentricidade"
   ]
  },
  {
   "cell_type": "markdown",
   "metadata": {},
   "source": [
    "Corresponde à razão entre a distância entre os focos de uma elipse e o comprimento do maior eixo."
   ]
  },
  {
   "cell_type": "code",
   "execution_count": null,
   "metadata": {},
   "outputs": [],
   "source": []
  },
  {
   "cell_type": "markdown",
   "metadata": {},
   "source": [
    "## Diâmetro equivalente"
   ]
  },
  {
   "cell_type": "markdown",
   "metadata": {},
   "source": [
    "Corresponde ao diâmetro de um circulo com a mesma área da forma."
   ]
  },
  {
   "cell_type": "markdown",
   "metadata": {},
   "source": [
    "$$\\text{DiametroEquiv } = \\sqrt{\\frac{4 \\times \\text{ Área}}{\\pi}}$$"
   ]
  },
  {
   "cell_type": "code",
   "execution_count": null,
   "metadata": {},
   "outputs": [],
   "source": []
  },
  {
   "cell_type": "markdown",
   "metadata": {},
   "source": [
    "## Número de Euler"
   ]
  },
  {
   "cell_type": "markdown",
   "metadata": {},
   "source": [
    "É o número de regiões na imagem subtraído o número de buracos."
   ]
  },
  {
   "cell_type": "code",
   "execution_count": 12,
   "metadata": {},
   "outputs": [],
   "source": [
    "im_4 = np.array([[0, 0, 0, 0, 0, 0, 0, 0],\n",
    "                 [0, 1, 0, 1, 1, 1, 1, 0],\n",
    "                 [0, 1, 1, 1, 0, 0, 1, 0],\n",
    "                 [0, 1, 1, 1, 0, 0, 1, 0],\n",
    "                 [0, 0, 1, 1, 1, 1, 1, 0],\n",
    "                 [0, 0, 1, 0, 0, 1, 0, 0],\n",
    "                 [0, 1, 1, 1, 1, 1, 0, 0],\n",
    "                 [0, 0, 0, 0, 0, 0, 0, 0]])"
   ]
  },
  {
   "cell_type": "code",
   "execution_count": 13,
   "metadata": {},
   "outputs": [
    {
     "data": {
      "image/png": "[encoded data removed]",
      "text/plain": [
       "<Figure size 432x288 with 1 Axes>"
      ]
     },
     "metadata": {},
     "output_type": "display_data"
    }
   ],
   "source": [
    "plt.figure()\n",
    "plt.imshow(im_4, cmap='gray')\n",
    "plt.show()"
   ]
  },
  {
   "cell_type": "code",
   "execution_count": 17,
   "metadata": {},
   "outputs": [],
   "source": [
    "im_5 = np.array([[0, 0, 0, 0, 0, 0, 0, 0],\n",
    "                 [0, 1, 1, 1, 0, 0, 0, 0],\n",
    "                 [0, 1, 0, 1, 0, 1, 1, 0],\n",
    "                 [0, 1, 0, 1, 0, 1, 1, 1],\n",
    "                 [0, 1, 1, 1, 0, 1, 0, 1],\n",
    "                 [0, 1, 0, 1, 0, 1, 0, 1],\n",
    "                 [0, 1, 1, 1, 0, 1, 1, 1],\n",
    "                 [0, 0, 0, 0, 0, 0, 0, 0]])"
   ]
  },
  {
   "cell_type": "code",
   "execution_count": 18,
   "metadata": {},
   "outputs": [
    {
     "data": {
      "image/png": "[encoded data removed]",
      "text/plain": [
       "<Figure size 432x288 with 1 Axes>"
      ]
     },
     "metadata": {},
     "output_type": "display_data"
    }
   ],
   "source": [
    "plt.figure()\n",
    "plt.imshow(im_5, cmap='gray')\n",
    "plt.show()"
   ]
  },
  {
   "cell_type": "markdown",
   "metadata": {},
   "source": [
    "## Extensão"
   ]
  },
  {
   "cell_type": "markdown",
   "metadata": {},
   "source": [
    "É a razão entre o número de pixels na região e no bounding box."
   ]
  },
  {
   "cell_type": "code",
   "execution_count": null,
   "metadata": {},
   "outputs": [],
   "source": []
  },
  {
   "cell_type": "markdown",
   "metadata": {},
   "source": [
    "$${Extensão } = \\frac{{Área}_{Objeto}}{{Área}_{BoundingBox}} $$"
   ]
  },
  {
   "cell_type": "code",
   "execution_count": null,
   "metadata": {},
   "outputs": [],
   "source": []
  },
  {
   "cell_type": "markdown",
   "metadata": {},
   "source": [
    "## Área preenchida"
   ]
  },
  {
   "cell_type": "markdown",
   "metadata": {},
   "source": [
    "Área de uma região após o preenchimento dos buracos."
   ]
  },
  {
   "cell_type": "code",
   "execution_count": null,
   "metadata": {},
   "outputs": [],
   "source": []
  },
  {
   "cell_type": "markdown",
   "metadata": {},
   "source": [
    "## Maior eixo"
   ]
  },
  {
   "cell_type": "code",
   "execution_count": 15,
   "metadata": {},
   "outputs": [],
   "source": [
    "im_4 = np.array([[0, 0, 0, 0, 0, 0, 0, 0],\n",
    "                 [0, 0, 0, 0, 0, 0, 0, 0],\n",
    "                 [0, 0, 0, 0, 1, 1, 1, 0],\n",
    "                 [0, 0, 0, 0, 1, 1, 1, 0],\n",
    "                 [0, 1, 1, 1, 0, 0, 0, 0],\n",
    "                 [0, 1, 1, 1, 0, 0, 0, 0],\n",
    "                 [0, 0, 0, 0, 0, 0, 0, 0],\n",
    "                 [0, 0, 0, 0, 0, 0, 0, 0]])"
   ]
  },
  {
   "cell_type": "code",
   "execution_count": 16,
   "metadata": {},
   "outputs": [
    {
     "data": {
      "image/png": "[encoded data removed]",
      "text/plain": [
       "<Figure size 432x288 with 1 Axes>"
      ]
     },
     "metadata": {},
     "output_type": "display_data"
    }
   ],
   "source": [
    "plt.figure()\n",
    "plt.imshow(im_4, cmap='gray')\n",
    "plt.show()"
   ]
  },
  {
   "cell_type": "markdown",
   "metadata": {},
   "source": [
    "## Menor eixo"
   ]
  },
  {
   "cell_type": "code",
   "execution_count": null,
   "metadata": {},
   "outputs": [],
   "source": []
  },
  {
   "cell_type": "markdown",
   "metadata": {},
   "source": [
    "## Orientação"
   ]
  },
  {
   "cell_type": "code",
   "execution_count": null,
   "metadata": {},
   "outputs": [],
   "source": []
  },
  {
   "cell_type": "markdown",
   "metadata": {},
   "source": [
    "## Solidez"
   ]
  },
  {
   "cell_type": "markdown",
   "metadata": {},
   "source": [
    "É a razão entre o número de pixels na região e o seu fecho convexo."
   ]
  },
  {
   "cell_type": "markdown",
   "metadata": {},
   "source": [
    "$${Solidez} = \\frac{{Área}_{Objeto}}{{Área}_{Convexa}}$$"
   ]
  },
  {
   "cell_type": "code",
   "execution_count": null,
   "metadata": {},
   "outputs": [],
   "source": []
  },
  {
   "cell_type": "markdown",
   "metadata": {},
   "source": [
    "## Intensidades mínima, média e máxima"
   ]
  },
  {
   "cell_type": "code",
   "execution_count": null,
   "metadata": {},
   "outputs": [],
   "source": []
  },
  {
   "cell_type": "markdown",
   "metadata": {},
   "source": [
    "# O método regionprops"
   ]
  },
  {
   "cell_type": "code",
   "execution_count": null,
   "metadata": {},
   "outputs": [],
   "source": []
  },
  {
   "cell_type": "code",
   "execution_count": null,
   "metadata": {},
   "outputs": [],
   "source": []
  },
  {
   "cell_type": "code",
   "execution_count": 39,
   "metadata": {},
   "outputs": [
    {
     "name": "stdout",
     "output_type": "stream",
     "text": [
      "3 (720, 960, 4)\n",
      "2 (720, 960) 0.0 1.0\n",
      "12\n"
     ]
    },
    {
     "data": {
      "image/png": "[encoded data removed]",
      "text/plain": [
       "<Figure size 432x288 with 1 Axes>"
      ]
     },
     "metadata": {},
     "output_type": "display_data"
    },
    {
     "name": "stdout",
     "output_type": "stream",
     "text": [
      "<class 'numpy.ndarray'> (0,)\n",
      "-----------------------------------\n",
      "Objeto:  0\n",
      "-----------------------------------\n",
      "Area.........................:  8376\n",
      "Bounding box.................:  (34, 521, 199, 689)\n",
      "Centroide....................:  (124.41833810888252, 602.6284622731614)\n",
      "Area do fecho convexo........:  15016\n",
      "Excentricidade...............:  0.8990705202973555\n",
      "Diametro equivalente.........:  103.26981372454259\n",
      "Numero de Euler..............:  1\n",
      "Extensao.....................:  0.3021645021645022\n",
      "Area preenchida..............:  8376\n",
      "Comprimento do maior eixo....:  231.59985943580307\n",
      "Intensidade maxima...........:  1.0\n",
      "Intensidade media............:  1.0\n",
      "Intensidade minima...........:  1.0\n",
      "Comprimento do menor eixo....:  101.39530706741958\n",
      "Orientacao...................:  0.7310587664385031\n",
      "Perimetro....................:  763.862048458375\n",
      "Solidicidade.................:  0.5578050079914758\n",
      "Vetor de caracteristicas do objeto:  0\n",
      "[8.37600000e+03 1.50160000e+04 8.99070520e-01 1.03269814e+02\n",
      " 1.00000000e+00 3.02164502e-01 8.37600000e+03 2.31599859e+02\n",
      " 1.00000000e+00 1.00000000e+00 1.00000000e+00 1.01395307e+02\n",
      " 7.31058766e-01 7.63862048e+02 5.57805008e-01]\n",
      "-----------------------------------\n",
      "Objeto:  1\n",
      "-----------------------------------\n",
      "Area.........................:  2744\n",
      "Bounding box.................:  (68, 294, 172, 412)\n",
      "Centroide....................:  (121.1231778425656, 343.29956268221576)\n",
      "Area do fecho convexo........:  6039\n",
      "Excentricidade...............:  0.8764824475471328\n",
      "Diametro equivalente.........:  59.10811543902653\n",
      "Numero de Euler..............:  1\n",
      "Extensao.....................:  0.22359843546284225\n",
      "Area preenchida..............:  2744\n",
      "Comprimento do maior eixo....:  154.49882698335503\n",
      "Intensidade maxima...........:  1.0\n",
      "Intensidade media............:  1.0\n",
      "Intensidade minima...........:  1.0\n",
      "Comprimento do menor eixo....:  74.38095983465364\n",
      "Orientacao...................:  0.7715920635705569\n",
      "Perimetro....................:  565.8254685319159\n",
      "Solidicidade.................:  0.4543798642159298\n",
      "Vetor de caracteristicas do objeto:  1\n",
      "[2.74400000e+03 6.03900000e+03 8.76482448e-01 5.91081154e+01\n",
      " 1.00000000e+00 2.23598435e-01 2.74400000e+03 1.54498827e+02\n",
      " 1.00000000e+00 1.00000000e+00 1.00000000e+00 7.43809598e+01\n",
      " 7.71592064e-01 5.65825469e+02 4.54379864e-01]\n",
      "-----------------------------------\n",
      "Objeto:  2\n",
      "-----------------------------------\n",
      "Area.........................:  2740\n",
      "Bounding box.................:  (70, 787, 183, 894)\n",
      "Centroide....................:  (133.44160583941607, 836.6897810218978)\n",
      "Area do fecho convexo........:  5970\n",
      "Excentricidade...............:  0.8771241590142485\n",
      "Diametro equivalente.........:  59.0650180104463\n",
      "Numero de Euler..............:  1\n",
      "Extensao.....................:  0.22661483748242495\n",
      "Area preenchida..............:  2740\n",
      "Comprimento do maior eixo....:  153.81745835931193\n",
      "Intensidade maxima...........:  1.0\n",
      "Intensidade media............:  1.0\n",
      "Intensidade minima...........:  1.0\n",
      "Comprimento do menor eixo....:  73.87293977633256\n",
      "Orientacao...................:  0.7500834569982451\n",
      "Perimetro....................:  577.9676041556468\n",
      "Solidicidade.................:  0.45896147403685095\n",
      "Vetor de caracteristicas do objeto:  2\n",
      "[2.74000000e+03 5.97000000e+03 8.77124159e-01 5.90650180e+01\n",
      " 1.00000000e+00 2.26614837e-01 2.74000000e+03 1.53817458e+02\n",
      " 1.00000000e+00 1.00000000e+00 1.00000000e+00 7.38729398e+01\n",
      " 7.50083457e-01 5.77967604e+02 4.58961474e-01]\n",
      "-----------------------------------\n",
      "Objeto:  3\n",
      "-----------------------------------\n",
      "Area.........................:  4664\n",
      "Bounding box.................:  (74, 43, 164, 191)\n",
      "Centroide....................:  (110.28644939965695, 106.7266295025729)\n",
      "Area do fecho convexo........:  8396\n",
      "Excentricidade...............:  0.8919950291684996\n",
      "Diametro equivalente.........:  77.06094495037547\n",
      "Numero de Euler..............:  1\n",
      "Extensao.....................:  0.35015015015015016\n",
      "Area preenchida..............:  4664\n",
      "Comprimento do maior eixo....:  170.84639203845728\n",
      "Intensidade maxima...........:  1.0\n",
      "Intensidade media............:  1.0\n",
      "Intensidade minima...........:  1.0\n",
      "Comprimento do menor eixo....:  77.23029242122975\n",
      "Orientacao...................:  0.43829175384223074\n",
      "Perimetro....................:  576.2741699796952\n",
      "Solidicidade.................:  0.5555026202953788\n",
      "Vetor de caracteristicas do objeto:  3\n",
      "[4.66400000e+03 8.39600000e+03 8.91995029e-01 7.70609450e+01\n",
      " 1.00000000e+00 3.50150150e-01 4.66400000e+03 1.70846392e+02\n",
      " 1.00000000e+00 1.00000000e+00 1.00000000e+00 7.72302924e+01\n",
      " 4.38291754e-01 5.76274170e+02 5.55502620e-01]\n",
      "-----------------------------------\n",
      "Objeto:  4\n",
      "-----------------------------------\n",
      "Area.........................:  12016\n",
      "Bounding box.................:  (290, 441, 413, 768)\n",
      "Centroide....................:  (362.392310252996, 560.8005992010652)\n",
      "Area do fecho convexo........:  24248\n",
      "Excentricidade...............:  0.9783344902118735\n",
      "Diametro equivalente.........:  123.69012236042826\n",
      "Numero de Euler..............:  1\n",
      "Extensao.....................:  0.2987494095124438\n",
      "Area preenchida..............:  12016\n",
      "Comprimento do maior eixo....:  404.8998083145303\n",
      "Intensidade maxima...........:  1.0\n",
      "Intensidade media............:  1.0\n",
      "Intensidade minima...........:  1.0\n",
      "Comprimento do menor eixo....:  83.8266071559234\n",
      "Orientacao...................:  -0.21116990066676747\n",
      "Perimetro....................:  931.0853531617383\n",
      "Solidicidade.................:  0.49554602441438467\n",
      "Vetor de caracteristicas do objeto:  4\n",
      "[ 1.20160000e+04  2.42480000e+04  9.78334490e-01  1.23690122e+02\n",
      "  1.00000000e+00  2.98749410e-01  1.20160000e+04  4.04899808e+02\n",
      "  1.00000000e+00  1.00000000e+00  1.00000000e+00  8.38266072e+01\n",
      " -2.11169901e-01  9.31085353e+02  4.95546024e-01]\n",
      "-----------------------------------\n",
      "Objeto:  5\n",
      "-----------------------------------\n",
      "Area.........................:  1852\n",
      "Bounding box.................:  (310, 334, 414, 383)\n",
      "Centroide....................:  (348.81911447084235, 354.3806695464363)\n",
      "Area do fecho convexo........:  3402\n",
      "Excentricidade...............:  0.9538389547433966\n",
      "Diametro equivalente.........:  48.559650295791066\n",
      "Numero de Euler..............:  1\n",
      "Extensao.....................:  0.36342229199372056\n",
      "Area preenchida..............:  1852\n",
      "Comprimento do maior eixo....:  123.30050969176558\n",
      "Intensidade maxima...........:  1.0\n",
      "Intensidade media............:  1.0\n",
      "Intensidade minima...........:  1.0\n",
      "Comprimento do menor eixo....:  37.02943376236769\n",
      "Orientacao...................:  -1.5574617940862459\n",
      "Perimetro....................:  301.1126983722081\n",
      "Solidicidade.................:  0.5443856554967667\n",
      "Vetor de caracteristicas do objeto:  5\n",
      "[ 1.85200000e+03  3.40200000e+03  9.53838955e-01  4.85596503e+01\n",
      "  1.00000000e+00  3.63422292e-01  1.85200000e+03  1.23300510e+02\n",
      "  1.00000000e+00  1.00000000e+00  1.00000000e+00  3.70294338e+01\n",
      " -1.55746179e+00  3.01112698e+02  5.44385655e-01]\n",
      "-----------------------------------\n",
      "Objeto:  6\n",
      "-----------------------------------\n",
      "Area.........................:  1263\n",
      "Bounding box.................:  (341, 66, 379, 176)\n",
      "Centroide....................:  (359.7743467933492, 134.09976247030878)\n",
      "Area do fecho convexo........:  2655\n",
      "Excentricidade...............:  0.9785962665943797\n",
      "Diametro equivalente.........:  40.1011414426137\n",
      "Numero de Euler..............:  1\n",
      "Extensao.....................:  0.3021531100478469\n",
      "Area preenchida..............:  1263\n",
      "Comprimento do maior eixo....:  134.32178850964198\n",
      "Intensidade maxima...........:  1.0\n",
      "Intensidade media............:  1.0\n",
      "Intensidade minima...........:  1.0\n",
      "Comprimento do menor eixo....:  27.642023062072425\n",
      "Orientacao...................:  -0.04249951455508158\n",
      "Perimetro....................:  291.84062043356596\n",
      "Solidicidade.................:  0.47570621468926555\n",
      "Vetor de caracteristicas do objeto:  6\n",
      "[ 1.26300000e+03  2.65500000e+03  9.78596267e-01  4.01011414e+01\n",
      "  1.00000000e+00  3.02153110e-01  1.26300000e+03  1.34321789e+02\n",
      "  1.00000000e+00  1.00000000e+00  1.00000000e+00  2.76420231e+01\n",
      " -4.24995146e-02  2.91840620e+02  4.75706215e-01]\n",
      "-----------------------------------\n",
      "Objeto:  7\n",
      "-----------------------------------\n",
      "Area.........................:  1260\n",
      "Bounding box.................:  (344, 784, 382, 894)\n",
      "Centroide....................:  (362.7603174603175, 824.8785714285714)\n",
      "Area do fecho convexo........:  2638\n",
      "Excentricidade...............:  0.978788488858502\n",
      "Diametro equivalente.........:  40.05348706874727\n",
      "Numero de Euler..............:  1\n",
      "Extensao.....................:  0.3014354066985646\n",
      "Area preenchida..............:  1260\n",
      "Comprimento do maior eixo....:  134.2264308990661\n",
      "Intensidade maxima...........:  1.0\n",
      "Intensidade media............:  1.0\n",
      "Intensidade minima...........:  1.0\n",
      "Comprimento do menor eixo....:  27.499420043367603\n",
      "Orientacao...................:  0.04225444078570726\n"
     ]
    },
    {
     "name": "stderr",
     "output_type": "stream",
     "text": [
      "c:\\users\\joao\\anaconda3\\envs\\sin393-py36\\lib\\site-packages\\skimage\\measure\\_regionprops.py:250: UserWarning: regionprops and image moments (including moments, normalized moments, central moments, and inertia tensor) of 2D images will change from xy coordinates to rc coordinates in version 0.16.\n",
      "See http://scikit-image.org/docs/0.14.x/release_notes_and_installation.html#deprecations for details on how to avoid this message.\n",
      "  warn(XY_TO_RC_DEPRECATION_MESSAGE)\n",
      "c:\\users\\joao\\anaconda3\\envs\\sin393-py36\\lib\\site-packages\\skimage\\measure\\_regionprops.py:260: UserWarning: regionprops and image moments (including moments, normalized moments, central moments, and inertia tensor) of 2D images will change from xy coordinates to rc coordinates in version 0.16.\n",
      "See http://scikit-image.org/docs/0.14.x/release_notes_and_installation.html#deprecations for details on how to avoid this message.\n",
      "  warn(XY_TO_RC_DEPRECATION_MESSAGE)\n"
     ]
    },
    {
     "name": "stdout",
     "output_type": "stream",
     "text": [
      "Perimetro....................:  291.0477272147525\n",
      "Solidicidade.................:  0.47763457164518575\n",
      "Vetor de caracteristicas do objeto:  7\n",
      "[1.26000000e+03 2.63800000e+03 9.78788489e-01 4.00534871e+01\n",
      " 1.00000000e+00 3.01435407e-01 1.26000000e+03 1.34226431e+02\n",
      " 1.00000000e+00 1.00000000e+00 1.00000000e+00 2.74994200e+01\n",
      " 4.22544408e-02 2.91047727e+02 4.77634572e-01]\n",
      "-----------------------------------\n",
      "Objeto:  8\n",
      "-----------------------------------\n",
      "Area.........................:  16199\n",
      "Bounding box.................:  (523, 258, 652, 469)\n",
      "Centroide....................:  (588.1898882647077, 358.17377615902217)\n",
      "Area do fecho convexo........:  18699\n",
      "Excentricidade...............:  0.8406190706133732\n",
      "Diametro equivalente.........:  143.61478818410345\n",
      "Numero de Euler..............:  1\n",
      "Extensao.....................:  0.5951357507623352\n",
      "Area preenchida..............:  16199\n",
      "Comprimento do maior eixo....:  202.23278097922133\n",
      "Intensidade maxima...........:  1.0\n",
      "Intensidade media............:  1.0\n",
      "Intensidade minima...........:  1.0\n",
      "Comprimento do menor eixo....:  109.53469170992174\n",
      "Orientacao...................:  0.3717571750189292\n",
      "Perimetro....................:  608.683332908185\n",
      "Solidicidade.................:  0.8663030108561955\n",
      "Vetor de caracteristicas do objeto:  8\n",
      "[1.61990000e+04 1.86990000e+04 8.40619071e-01 1.43614788e+02\n",
      " 1.00000000e+00 5.95135751e-01 1.61990000e+04 2.02232781e+02\n",
      " 1.00000000e+00 1.00000000e+00 1.00000000e+00 1.09534692e+02\n",
      " 3.71757175e-01 6.08683333e+02 8.66303011e-01]\n",
      "-----------------------------------\n",
      "Objeto:  9\n",
      "-----------------------------------\n",
      "Area.........................:  9702\n",
      "Bounding box.................:  (553, 755, 647, 925)\n",
      "Centroide....................:  (599.0415378272521, 844.7561327561327)\n",
      "Area do fecho convexo........:  11141\n",
      "Excentricidade...............:  0.8277023239325092\n",
      "Diametro equivalente.........:  111.14391599642578\n",
      "Numero de Euler..............:  1\n",
      "Extensao.....................:  0.6071339173967459\n",
      "Area preenchida..............:  9702\n",
      "Comprimento do maior eixo....:  153.62472627952778\n",
      "Intensidade maxima...........:  1.0\n",
      "Intensidade media............:  1.0\n",
      "Intensidade minima...........:  1.0\n",
      "Comprimento do menor eixo....:  86.2091898828862\n",
      "Orientacao...................:  -0.06984656906057657\n",
      "Perimetro....................:  466.9432175380074\n",
      "Solidicidade.................:  0.8708374472668522\n",
      "Vetor de caracteristicas do objeto:  9\n",
      "[ 9.70200000e+03  1.11410000e+04  8.27702324e-01  1.11143916e+02\n",
      "  1.00000000e+00  6.07133917e-01  9.70200000e+03  1.53624726e+02\n",
      "  1.00000000e+00  1.00000000e+00  1.00000000e+00  8.62091899e+01\n",
      " -6.98465691e-02  4.66943218e+02  8.70837447e-01]\n",
      "-----------------------------------\n",
      "Objeto:  10\n",
      "-----------------------------------\n",
      "Area.........................:  7467\n",
      "Bounding box.................:  (561, 515, 637, 684)\n",
      "Centroide....................:  (598.4281505289943, 608.0886567563948)\n",
      "Area do fecho convexo........:  8458\n",
      "Excentricidade...............:  0.8911312457803919\n",
      "Diametro equivalente.........:  97.50528027003183\n",
      "Numero de Euler..............:  1\n",
      "Extensao.....................:  0.5813609467455622\n",
      "Area preenchida..............:  7467\n",
      "Comprimento do maior eixo....:  149.65100180680497\n",
      "Intensidade maxima...........:  1.0\n",
      "Intensidade media............:  1.0\n",
      "Intensidade minima...........:  1.0\n",
      "Comprimento do menor eixo....:  67.90348909260815\n",
      "Orientacao...................:  0.01841533374079085\n",
      "Perimetro....................:  416.2325394193526\n",
      "Solidicidade.................:  0.8828328209978719\n",
      "Vetor de caracteristicas do objeto:  10\n",
      "[7.46700000e+03 8.45800000e+03 8.91131246e-01 9.75052803e+01\n",
      " 1.00000000e+00 5.81360947e-01 7.46700000e+03 1.49651002e+02\n",
      " 1.00000000e+00 1.00000000e+00 1.00000000e+00 6.79034891e+01\n",
      " 1.84153337e-02 4.16232539e+02 8.82832821e-01]\n",
      "-----------------------------------\n",
      "Objeto:  11\n",
      "-----------------------------------\n",
      "Area.........................:  7088\n",
      "Bounding box.................:  (562, 35, 638, 205)\n",
      "Centroide....................:  (597.8852990970655, 125.25)\n",
      "Area do fecho convexo........:  8397\n",
      "Excentricidade...............:  0.8944485169892019\n",
      "Diametro equivalente.........:  94.99853626810696\n",
      "Numero de Euler..............:  1\n",
      "Extensao.....................:  0.5486068111455108\n",
      "Area preenchida..............:  7088\n",
      "Comprimento do maior eixo....:  149.27092263766136\n",
      "Intensidade maxima...........:  1.0\n",
      "Intensidade media............:  1.0\n",
      "Intensidade minima...........:  1.0\n",
      "Comprimento do menor eixo....:  66.74961893664866\n",
      "Orientacao...................:  0.022848855860140408\n",
      "Perimetro....................:  423.40411229460636\n",
      "Solidicidade.................:  0.8441109920209598\n",
      "Vetor de caracteristicas do objeto:  11\n",
      "[7.08800000e+03 8.39700000e+03 8.94448517e-01 9.49985363e+01\n",
      " 1.00000000e+00 5.48606811e-01 7.08800000e+03 1.49270923e+02\n",
      " 1.00000000e+00 1.00000000e+00 1.00000000e+00 6.67496189e+01\n",
      " 2.28488559e-02 4.23404112e+02 8.44110992e-01]\n",
      "(12, 15)\n",
      "[[ 8.37600000e+03  1.50160000e+04  8.99070520e-01  1.03269814e+02\n",
      "   1.00000000e+00  3.02164502e-01  8.37600000e+03  2.31599859e+02\n",
      "   1.00000000e+00  1.00000000e+00  1.00000000e+00  1.01395307e+02\n",
      "   7.31058766e-01  7.63862048e+02  5.57805008e-01]\n",
      " [ 2.74400000e+03  6.03900000e+03  8.76482448e-01  5.91081154e+01\n",
      "   1.00000000e+00  2.23598435e-01  2.74400000e+03  1.54498827e+02\n",
      "   1.00000000e+00  1.00000000e+00  1.00000000e+00  7.43809598e+01\n",
      "   7.71592064e-01  5.65825469e+02  4.54379864e-01]\n",
      " [ 2.74000000e+03  5.97000000e+03  8.77124159e-01  5.90650180e+01\n",
      "   1.00000000e+00  2.26614837e-01  2.74000000e+03  1.53817458e+02\n",
      "   1.00000000e+00  1.00000000e+00  1.00000000e+00  7.38729398e+01\n",
      "   7.50083457e-01  5.77967604e+02  4.58961474e-01]\n",
      " [ 4.66400000e+03  8.39600000e+03  8.91995029e-01  7.70609450e+01\n",
      "   1.00000000e+00  3.50150150e-01  4.66400000e+03  1.70846392e+02\n",
      "   1.00000000e+00  1.00000000e+00  1.00000000e+00  7.72302924e+01\n",
      "   4.38291754e-01  5.76274170e+02  5.55502620e-01]\n",
      " [ 1.20160000e+04  2.42480000e+04  9.78334490e-01  1.23690122e+02\n",
      "   1.00000000e+00  2.98749410e-01  1.20160000e+04  4.04899808e+02\n",
      "   1.00000000e+00  1.00000000e+00  1.00000000e+00  8.38266072e+01\n",
      "  -2.11169901e-01  9.31085353e+02  4.95546024e-01]\n",
      " [ 1.85200000e+03  3.40200000e+03  9.53838955e-01  4.85596503e+01\n",
      "   1.00000000e+00  3.63422292e-01  1.85200000e+03  1.23300510e+02\n",
      "   1.00000000e+00  1.00000000e+00  1.00000000e+00  3.70294338e+01\n",
      "  -1.55746179e+00  3.01112698e+02  5.44385655e-01]\n",
      " [ 1.26300000e+03  2.65500000e+03  9.78596267e-01  4.01011414e+01\n",
      "   1.00000000e+00  3.02153110e-01  1.26300000e+03  1.34321789e+02\n",
      "   1.00000000e+00  1.00000000e+00  1.00000000e+00  2.76420231e+01\n",
      "  -4.24995146e-02  2.91840620e+02  4.75706215e-01]\n",
      " [ 1.26000000e+03  2.63800000e+03  9.78788489e-01  4.00534871e+01\n",
      "   1.00000000e+00  3.01435407e-01  1.26000000e+03  1.34226431e+02\n",
      "   1.00000000e+00  1.00000000e+00  1.00000000e+00  2.74994200e+01\n",
      "   4.22544408e-02  2.91047727e+02  4.77634572e-01]\n",
      " [ 1.61990000e+04  1.86990000e+04  8.40619071e-01  1.43614788e+02\n",
      "   1.00000000e+00  5.95135751e-01  1.61990000e+04  2.02232781e+02\n",
      "   1.00000000e+00  1.00000000e+00  1.00000000e+00  1.09534692e+02\n",
      "   3.71757175e-01  6.08683333e+02  8.66303011e-01]\n",
      " [ 9.70200000e+03  1.11410000e+04  8.27702324e-01  1.11143916e+02\n",
      "   1.00000000e+00  6.07133917e-01  9.70200000e+03  1.53624726e+02\n",
      "   1.00000000e+00  1.00000000e+00  1.00000000e+00  8.62091899e+01\n",
      "  -6.98465691e-02  4.66943218e+02  8.70837447e-01]\n",
      " [ 7.46700000e+03  8.45800000e+03  8.91131246e-01  9.75052803e+01\n",
      "   1.00000000e+00  5.81360947e-01  7.46700000e+03  1.49651002e+02\n",
      "   1.00000000e+00  1.00000000e+00  1.00000000e+00  6.79034891e+01\n",
      "   1.84153337e-02  4.16232539e+02  8.82832821e-01]\n",
      " [ 7.08800000e+03  8.39700000e+03  8.94448517e-01  9.49985363e+01\n",
      "   1.00000000e+00  5.48606811e-01  7.08800000e+03  1.49270923e+02\n",
      "   1.00000000e+00  1.00000000e+00  1.00000000e+00  6.67496189e+01\n",
      "   2.28488559e-02  4.23404112e+02  8.44110992e-01]]\n"
     ]
    },
    {
     "data": {
      "image/png": "[encoded data removed]",
      "text/plain": [
       "<Figure size 432x288 with 1 Axes>"
      ]
     },
     "metadata": {},
     "output_type": "display_data"
    }
   ],
   "source": [
    "def plot_centroide(ax, cent):\n",
    "    \"\"\"\n",
    "    Plota o centroide de um objeto.\n",
    "    \"\"\"\n",
    "    ax.scatter(cent[1], cent[0], color='r', s=40)\n",
    "\n",
    "def plot_bbox(ax, bbox):\n",
    "    \"\"\"\n",
    "    Plota o bounding-box de um objeto.\n",
    "    \"\"\"\n",
    "    ax.add_patch( \n",
    "        patches.Rectangle( (bbox[1]-1., bbox[0]-1.), bbox[3]-bbox[1]+1, bbox[2]-bbox[0]+1,\n",
    "                            fill=False, color='g')\n",
    "    )\n",
    "    \n",
    "def plot_diametro(ax, cent, diam):\n",
    "    \"\"\"\n",
    "    Plota o diametro de um objeto.\n",
    "    \"\"\"\n",
    "    ax.add_patch( \n",
    "        patches.Circle( (cent[1], cent[0]), radius=diam/2., fill=False, color='b')\n",
    "    )\n",
    "    \n",
    "def plot_rotulo(ax, bbox, label):\n",
    "    x_ = bbox[1]\n",
    "    y_ = bbox[0]\n",
    "    ax.annotate(label, xy=(x_, y_), xytext=(x_-1, y_-1), color='y' )\n",
    "    \n",
    "def plot_eixo_menor(ax, cent, orient, maj_ax):\n",
    "    x_ = np.sin(orient)*(maj_ax*0.5)\n",
    "    y_ = np.cos(orient)*(maj_ax*0.5)\n",
    "    ax.plot([cent[1], cent[1]+x_] ,[cent[0], cent[0]+y_], 'm-')\n",
    "    \n",
    "def plot_eixo_maior(ax, cent, orient, maj_ax):\n",
    "    x_ = np.cos(orient)*(maj_ax*0.5)\n",
    "    y_ = np.sin(orient)*(maj_ax*0.5)\n",
    "    ax.plot([cent[1], cent[1]+x_] ,[cent[0], cent[0]-y_], 'm-')    \n",
    "\n",
    "im = imageio.imread('mpeg7_shapes_3.png')\n",
    "print(im.ndim, im.shape)\n",
    "im = im[:,:,0]\n",
    "im = img_as_float(im)\n",
    "im = (im > 0.5).astype(float)\n",
    "print(im.ndim, im.shape, im.min(), im.max())\n",
    "\n",
    "# Gera imagem de rotulos.\n",
    "im_r = measure.label(im)\n",
    "print(im_r.max())\n",
    "\n",
    "plt.figure()\n",
    "plt.imshow(im)\n",
    "plt.show()\n",
    "\n",
    "# Inicializa matriz de caracteristicas F.\n",
    "X = np.array([])\n",
    "print(type(X), X.shape)\n",
    "\n",
    "# Obtem propriedades (caracteriticas) de regioes rotuladas em uma imagem.\n",
    "props = measure.regionprops(im_r, im)\n",
    "\n",
    "# Percorre os objetos.\n",
    "for i in range(im_r.max()):\n",
    "    print('-----------------------------------')\n",
    "    print('Objeto: ', i)\n",
    "    print('-----------------------------------')\n",
    "    print('Area.........................: ', props[i].area)\n",
    "    print('Bounding box.................: ', props[i].bbox)\n",
    "    print('Centroide....................: ', props[i].centroid)\n",
    "    print('Area do fecho convexo........: ', props[i].convex_area)\n",
    "    print('Excentricidade...............: ', props[i].eccentricity)\n",
    "    print('Diametro equivalente.........: ', props[i].equivalent_diameter)\n",
    "    print('Numero de Euler..............: ', props[i].euler_number)\n",
    "    print('Extensao.....................: ', props[i].extent)\n",
    "    print('Area preenchida..............: ', props[i].filled_area)\n",
    "    print('Comprimento do maior eixo....: ', props[i].major_axis_length)\n",
    "    print('Intensidade maxima...........: ', props[i].max_intensity)\n",
    "    print('Intensidade media............: ', props[i].mean_intensity)\n",
    "    print('Intensidade minima...........: ', props[i].min_intensity)\n",
    "    print('Comprimento do menor eixo....: ', props[i].minor_axis_length)\n",
    "    print('Orientacao...................: ', props[i].orientation)\n",
    "    print('Perimetro....................: ', props[i].perimeter)\n",
    "    print('Solidicidade.................: ', props[i].solidity)\n",
    "    \n",
    "    # Constroi ndarray do objeto i\n",
    "    X_i = np.array( [props[i].area, \n",
    "                     props[i].convex_area, \n",
    "                     props[i].eccentricity,\n",
    "                     props[i].equivalent_diameter, \n",
    "                     props[i].euler_number,\n",
    "                     props[i].extent, \n",
    "                     props[i].filled_area,\n",
    "                     props[i].major_axis_length,\n",
    "                     props[i].max_intensity,\n",
    "                     props[i].mean_intensity,\n",
    "                     props[i].min_intensity,\n",
    "                     props[i].minor_axis_length,\n",
    "                     props[i].orientation,\n",
    "                     props[i].perimeter, \n",
    "                     props[i].solidity]  ) \n",
    "    # TESTE\n",
    "    print('Vetor de caracteristicas do objeto: ', i)\n",
    "    print(X_i)\n",
    "    \n",
    "    # Justa os vetores e carac. na matriz de caract. F\n",
    "    if i==0:\n",
    "        X = X_i\n",
    "    else:\n",
    "        X = np.vstack((X, X_i))\n",
    "        \n",
    "\n",
    "# Imprime na tela.\n",
    "print(X.shape)\n",
    "print(X)\n",
    "\n",
    "# Grava em arquivo.\n",
    "np.savetxt('MPEG7_shapes_3.csv', X, delimiter=' , ', fmt='%.4f')\n",
    "\n",
    "# Plota algumas caracteristicas sobre a imagem original.\n",
    "plt.figure()\n",
    "plt.title('Caracteristicas dos objetos')\n",
    "plt.imshow(im, cmap='gray', interpolation='nearest')\n",
    "ax = plt.gca() # Get the current axes\n",
    "# Percorre os objetos.\n",
    "for i in range(im_r.max()):\n",
    "    # Plota o centroide.\n",
    "    plot_centroide(ax, props[i].centroid)\n",
    "    # Plota o Bounding Box\n",
    "    plot_bbox(ax, props[i].bbox)\n",
    "    # Plota o diametro.\n",
    "    plot_diametro(ax, props[i].centroid, props[i].equivalent_diameter)\n",
    "    # Plota o eixo maior.\n",
    "    plot_eixo_maior(ax, props[i].centroid, props[i].orientation, props[i].major_axis_length)\n",
    "    # Plota o eixo menor\n",
    "    plot_eixo_menor(ax, props[i].centroid, props[i].orientation, props[i].minor_axis_length)\n",
    "\n",
    "plt.show()"
   ]
  },
  {
   "cell_type": "markdown",
   "metadata": {},
   "source": [
    "## Visualização das caracteristicas 2D"
   ]
  },
  {
   "cell_type": "code",
   "execution_count": null,
   "metadata": {},
   "outputs": [],
   "source": [
    "\n",
    "f = ['area', 'convex_area', 'eccentricity', 'equivalent_diameter', 'euler_number',\n",
    "     extent, filled_area, major_axis_length, mean_intensity, min_intensity,                      minor_axis_length,\n",
    "                     props[i].orientation,\n",
    "                     props[i].perimeter, \n",
    "                     props[i].solidity]\n",
    "\n",
    "num_classes = len(np.unique(y))\n",
    "num_feat = X.shape[1]"
   ]
  },
  {
   "cell_type": "code",
   "execution_count": null,
   "metadata": {},
   "outputs": [],
   "source": [
    "cores = ['r', 'g', 'b']\n",
    "fig, axes = plt.subplots(num_feat, num_feat, figsize=(16,16))\n",
    "for i in range(num_feat):\n",
    "    for j in range(num_feat):\n",
    "        if i==j: # Nome da caracteristica\n",
    "            axes[i,j].text(0.1, 0.5, f[i])\n",
    "            axes[i,j].axis('off')\n",
    "        else: # Plot\n",
    "            for k in range(num_classes):\n",
    "                axes[i,j].scatter(X[y==k, i], X[y==k, j], color=cores[k], s=24, edgecolors='k')\n",
    "            axes[i,j].axis('equal')\n",
    "plt.show()"
   ]
  }
 ],
 "metadata": {
  "kernelspec": {
   "display_name": "Python 3",
   "language": "python",
   "name": "python3"
  },
  "language_info": {
   "codemirror_mode": {
    "name": "ipython",
    "version": 3
   },
   "file_extension": ".py",
   "mimetype": "text/x-python",
   "name": "python",
   "nbconvert_exporter": "python",
   "pygments_lexer": "ipython3",
   "version": "3.6.6"
  },
  "toc": {
   "base_numbering": 1,
   "nav_menu": {},
   "number_sections": true,
   "sideBar": true,
   "skip_h1_title": false,
   "title_cell": "Table of Contents",
   "title_sidebar": "Contents",
   "toc_cell": false,
   "toc_position": {},
   "toc_section_display": true,
   "toc_window_display": false
  }
 },
 "nbformat": 4,
 "nbformat_minor": 2
}
