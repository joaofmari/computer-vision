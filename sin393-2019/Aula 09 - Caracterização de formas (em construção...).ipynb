{
 "cells": [
  {
   "cell_type": "markdown",
   "metadata": {},
   "source": [
    "# [Aula 9] Caracterização de formas\n",
    "\n",
    "*(Em construção. Consultar o arquivo PDF)*\n",
    "***\n",
    "Prof. João Fernando Mari (joaofmari@gmail.com)\n",
    "\n",
    "Universidade Federal de Viçosa - *campus* Rio Paranaíba\n",
    "\n",
    "SIN 393 - Introdução à Visão Computacional (2018-2)\n",
    "***"
   ]
  },
  {
   "cell_type": "markdown",
   "metadata": {},
   "source": [
    "## Bibliografia\n",
    "----\n",
    "\n",
    "1. COSTA, L. DA F.; CESAR-JR., R. M. Shape analysis and  classification : theory and practice. CRC Press, 2000.  \n",
    "    * Capítulo 6. \n",
    "1. Python Scientific Lectures Notes (2013) \n",
    "    * https://scipy-lectures.github.io/_downloads/PythonScientific-simple.pdf  \n",
    "1. Função regionprops do módulo skimage.measure. \n",
    "    * http://scikit-image.org/docs/dev/api/skimage.measure.html#regionprops \n",
    "1. Função regioprops do Matlab® \n",
    "    * http://www.mathworks.com/help/images/ref/regionprops.html  \n",
    " \n",
    "### Bibliografia auxiliar: \n",
    "1. PyCon 2014 Scikit-learn Tutorial \n",
    "    • https://github.com/ogrisel/sklearn_pycon2014  \n",
    "1. Introduction to NumPy (SciPy 2015) \n",
    "    • https://github.com/enthought/Numpy-Tutorial-SciPyConf-2015  \n",
    "    • Obs: Inclui Matplotlib.\n",
    "----"
   ]
  },
  {
   "cell_type": "markdown",
   "metadata": {},
   "source": [
    "## Momentos\n",
    "----\n",
    "\n",
    "* Os momentos de uma imagem são médias ponderadas (momentos) das intensidades dos pixels em uma região (objeto). \n",
    "    * Podem ser usados para definir um grupo de características  de forma. \n",
    "* Para uma imagem I(x,y) o momento de ordem (i + j) é definido como: "
   ]
  },
  {
   "cell_type": "code",
   "execution_count": null,
   "metadata": {},
   "outputs": [],
   "source": []
  },
  {
   "cell_type": "markdown",
   "metadata": {},
   "source": [
    "### Momentos centrais\n",
    "\n",
    "Para uma imagem f(x,y) o momento central de ordem (p+q) é definido como:"
   ]
  },
  {
   "cell_type": "code",
   "execution_count": null,
   "metadata": {},
   "outputs": [],
   "source": []
  }
 ],
 "metadata": {
  "kernelspec": {
   "display_name": "Python 3",
   "language": "python",
   "name": "python3"
  },
  "language_info": {
   "codemirror_mode": {
    "name": "ipython",
    "version": 3
   },
   "file_extension": ".py",
   "mimetype": "text/x-python",
   "name": "python",
   "nbconvert_exporter": "python",
   "pygments_lexer": "ipython3",
   "version": "3.8.5"
  }
 },
 "nbformat": 4,
 "nbformat_minor": 4
}
